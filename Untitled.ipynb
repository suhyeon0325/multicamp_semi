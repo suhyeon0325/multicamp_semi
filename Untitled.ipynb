{
 "cells": [
  {
   "cell_type": "code",
   "execution_count": 1,
   "id": "af270188-743c-42f0-8b8a-35c763ede9f0",
   "metadata": {},
   "outputs": [],
   "source": [
    "import geopandas as gpd\n",
    "gdf = gpd.read_file(\"data/동경계/동경계_geo.shp\", encoding='utf-8')"
   ]
  },
  {
   "cell_type": "code",
   "execution_count": 6,
   "id": "75dc5b40-8498-43e6-a226-c1cd108154b4",
   "metadata": {},
   "outputs": [
    {
     "data": {
      "text/plain": [
       "0      종로구\n",
       "1      종로구\n",
       "2      종로구\n",
       "3      종로구\n",
       "4      종로구\n",
       "      ... \n",
       "462    강동구\n",
       "463    강동구\n",
       "464    강동구\n",
       "465    강동구\n",
       "466    강동구\n",
       "Name: 구, Length: 467, dtype: object"
      ]
     },
     "execution_count": 6,
     "metadata": {},
     "output_type": "execute_result"
    }
   ],
   "source": [
    "gdf['구']"
   ]
  },
  {
   "cell_type": "code",
   "execution_count": null,
   "id": "6a244191-a7fd-483a-be7d-b9d39933e2e1",
   "metadata": {},
   "outputs": [],
   "source": []
  }
 ],
 "metadata": {
  "kernelspec": {
   "display_name": "Python 3 (ipykernel)",
   "language": "python",
   "name": "python3"
  },
  "language_info": {
   "codemirror_mode": {
    "name": "ipython",
    "version": 3
   },
   "file_extension": ".py",
   "mimetype": "text/x-python",
   "name": "python",
   "nbconvert_exporter": "python",
   "pygments_lexer": "ipython3",
   "version": "3.12.1"
  }
 },
 "nbformat": 4,
 "nbformat_minor": 5
}
