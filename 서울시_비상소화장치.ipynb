{
 "cells": [
  {
   "cell_type": "code",
   "execution_count": 1,
   "id": "7909de9f-2854-46be-844d-e40f4ef1c0bd",
   "metadata": {},
   "outputs": [],
   "source": [
    "import folium\n",
    "import geopandas as gpd\n",
    "import pandas as pd\n",
    "import matplotlib.pyplot as plt\n",
    "from shapely.geometry import box\n",
    "import numpy as np\n",
    "import plotly.express as px\n",
    "import plotly.graph_objects as go\n",
    "from shapely.geometry import Point\n",
    "from pyproj import Proj, transform, CRS"
   ]
  },
  {
   "cell_type": "code",
   "execution_count": 2,
   "id": "9af9db1a-7f99-4fd4-a2c4-5d81dcb108e8",
   "metadata": {},
   "outputs": [],
   "source": [
    "import matplotlib.font_manager as fm\n",
    "\n",
    "# 한국어 출력을 위한 폰트 설정\n",
    "plt.rc('font', family='NanumGothic') \n",
    "\n",
    "# 마이너스 기호가 깨지는 것을 방지\n",
    "plt.rcParams['axes.unicode_minus'] = False"
   ]
  },
  {
   "cell_type": "code",
   "execution_count": 3,
   "id": "379781b6-71a5-4369-950c-b6d0d5671c77",
   "metadata": {},
   "outputs": [],
   "source": [
    "data = gpd.read_file(\"data/서울시 비상소화장치 위치정보.csv\")"
   ]
  },
  {
   "cell_type": "code",
   "execution_count": 4,
   "id": "6e73aab0-6c7b-4714-9085-2ed5f3b65771",
   "metadata": {},
   "outputs": [
    {
     "data": {
      "text/html": [
       "<div>\n",
       "<style scoped>\n",
       "    .dataframe tbody tr th:only-of-type {\n",
       "        vertical-align: middle;\n",
       "    }\n",
       "\n",
       "    .dataframe tbody tr th {\n",
       "        vertical-align: top;\n",
       "    }\n",
       "\n",
       "    .dataframe thead th {\n",
       "        text-align: right;\n",
       "    }\n",
       "</style>\n",
       "<table border=\"1\" class=\"dataframe\">\n",
       "  <thead>\n",
       "    <tr style=\"text-align: right;\">\n",
       "      <th></th>\n",
       "      <th>연번</th>\n",
       "      <th>비상소화장치일련번호</th>\n",
       "      <th>일련번호</th>\n",
       "      <th>X좌표</th>\n",
       "      <th>Y좌표</th>\n",
       "      <th>비상소화장치고유번호</th>\n",
       "      <th>사용구분</th>\n",
       "      <th>삭제여부</th>\n",
       "      <th>업데이트날짜</th>\n",
       "      <th>geometry</th>\n",
       "    </tr>\n",
       "  </thead>\n",
       "  <tbody>\n",
       "    <tr>\n",
       "      <th>0</th>\n",
       "      <td>1</td>\n",
       "      <td>110080030</td>\n",
       "      <td>451</td>\n",
       "      <td>192436.05620538</td>\n",
       "      <td>552336.95498254</td>\n",
       "      <td>41</td>\n",
       "      <td>52201</td>\n",
       "      <td>N</td>\n",
       "      <td>20231116120041</td>\n",
       "      <td>None</td>\n",
       "    </tr>\n",
       "    <tr>\n",
       "      <th>1</th>\n",
       "      <td>2</td>\n",
       "      <td>110080031</td>\n",
       "      <td>452</td>\n",
       "      <td>191972.54288665</td>\n",
       "      <td>554384.19107578</td>\n",
       "      <td>54</td>\n",
       "      <td>52202</td>\n",
       "      <td>N</td>\n",
       "      <td>20231017120007</td>\n",
       "      <td>None</td>\n",
       "    </tr>\n",
       "    <tr>\n",
       "      <th>2</th>\n",
       "      <td>3</td>\n",
       "      <td>110080032</td>\n",
       "      <td>453</td>\n",
       "      <td>195705.68084358</td>\n",
       "      <td>555164.49557405</td>\n",
       "      <td>56</td>\n",
       "      <td>52201</td>\n",
       "      <td>N</td>\n",
       "      <td>20231111120009</td>\n",
       "      <td>None</td>\n",
       "    </tr>\n",
       "    <tr>\n",
       "      <th>3</th>\n",
       "      <td>4</td>\n",
       "      <td>110080033</td>\n",
       "      <td>454</td>\n",
       "      <td>195646.35573731</td>\n",
       "      <td>555661.51678319</td>\n",
       "      <td>57</td>\n",
       "      <td>52201</td>\n",
       "      <td>N</td>\n",
       "      <td>20231111120009</td>\n",
       "      <td>None</td>\n",
       "    </tr>\n",
       "    <tr>\n",
       "      <th>4</th>\n",
       "      <td>5</td>\n",
       "      <td>110080034</td>\n",
       "      <td>455</td>\n",
       "      <td>191543.20535296</td>\n",
       "      <td>555165.58938338</td>\n",
       "      <td>55</td>\n",
       "      <td>52201</td>\n",
       "      <td>N</td>\n",
       "      <td>20231024120006</td>\n",
       "      <td>None</td>\n",
       "    </tr>\n",
       "    <tr>\n",
       "      <th>...</th>\n",
       "      <td>...</td>\n",
       "      <td>...</td>\n",
       "      <td>...</td>\n",
       "      <td>...</td>\n",
       "      <td>...</td>\n",
       "      <td>...</td>\n",
       "      <td>...</td>\n",
       "      <td>...</td>\n",
       "      <td>...</td>\n",
       "      <td>...</td>\n",
       "    </tr>\n",
       "    <tr>\n",
       "      <th>2690</th>\n",
       "      <td>2691</td>\n",
       "      <td>110086927</td>\n",
       "      <td>0</td>\n",
       "      <td>195867.26344686</td>\n",
       "      <td>550812.72472093</td>\n",
       "      <td>000118</td>\n",
       "      <td>52201</td>\n",
       "      <td>N</td>\n",
       "      <td>20231115120002</td>\n",
       "      <td>None</td>\n",
       "    </tr>\n",
       "    <tr>\n",
       "      <th>2691</th>\n",
       "      <td>2692</td>\n",
       "      <td>110086928</td>\n",
       "      <td>0</td>\n",
       "      <td>195978.50137131</td>\n",
       "      <td>550812.36698320</td>\n",
       "      <td>000119</td>\n",
       "      <td>52201</td>\n",
       "      <td>N</td>\n",
       "      <td>20231109120021</td>\n",
       "      <td>None</td>\n",
       "    </tr>\n",
       "    <tr>\n",
       "      <th>2692</th>\n",
       "      <td>2693</td>\n",
       "      <td>110086929</td>\n",
       "      <td>0</td>\n",
       "      <td>196051.06076163</td>\n",
       "      <td>550814.24186619</td>\n",
       "      <td>000120</td>\n",
       "      <td>52201</td>\n",
       "      <td>N</td>\n",
       "      <td>20231109120021</td>\n",
       "      <td>None</td>\n",
       "    </tr>\n",
       "    <tr>\n",
       "      <th>2693</th>\n",
       "      <td>2694</td>\n",
       "      <td>110086930</td>\n",
       "      <td>0</td>\n",
       "      <td>196029.38712340</td>\n",
       "      <td>550750.44879355</td>\n",
       "      <td>000121</td>\n",
       "      <td>52201</td>\n",
       "      <td>N</td>\n",
       "      <td>20231109120021</td>\n",
       "      <td>None</td>\n",
       "    </tr>\n",
       "    <tr>\n",
       "      <th>2694</th>\n",
       "      <td>2695</td>\n",
       "      <td>110086931</td>\n",
       "      <td>0</td>\n",
       "      <td>196050.26877634</td>\n",
       "      <td>550667.20011006</td>\n",
       "      <td>000122</td>\n",
       "      <td>52201</td>\n",
       "      <td>N</td>\n",
       "      <td>20231109120021</td>\n",
       "      <td>None</td>\n",
       "    </tr>\n",
       "  </tbody>\n",
       "</table>\n",
       "<p>2695 rows × 10 columns</p>\n",
       "</div>"
      ],
      "text/plain": [
       "        연번 비상소화장치일련번호 일련번호              X좌표              Y좌표 비상소화장치고유번호  \\\n",
       "0        1  110080030  451  192436.05620538  552336.95498254         41   \n",
       "1        2  110080031  452  191972.54288665  554384.19107578         54   \n",
       "2        3  110080032  453  195705.68084358  555164.49557405         56   \n",
       "3        4  110080033  454  195646.35573731  555661.51678319         57   \n",
       "4        5  110080034  455  191543.20535296  555165.58938338         55   \n",
       "...    ...        ...  ...              ...              ...        ...   \n",
       "2690  2691  110086927    0  195867.26344686  550812.72472093     000118   \n",
       "2691  2692  110086928    0  195978.50137131  550812.36698320     000119   \n",
       "2692  2693  110086929    0  196051.06076163  550814.24186619     000120   \n",
       "2693  2694  110086930    0  196029.38712340  550750.44879355     000121   \n",
       "2694  2695  110086931    0  196050.26877634  550667.20011006     000122   \n",
       "\n",
       "       사용구분 삭제여부          업데이트날짜 geometry  \n",
       "0     52201    N  20231116120041     None  \n",
       "1     52202    N  20231017120007     None  \n",
       "2     52201    N  20231111120009     None  \n",
       "3     52201    N  20231111120009     None  \n",
       "4     52201    N  20231024120006     None  \n",
       "...     ...  ...             ...      ...  \n",
       "2690  52201    N  20231115120002     None  \n",
       "2691  52201    N  20231109120021     None  \n",
       "2692  52201    N  20231109120021     None  \n",
       "2693  52201    N  20231109120021     None  \n",
       "2694  52201    N  20231109120021     None  \n",
       "\n",
       "[2695 rows x 10 columns]"
      ]
     },
     "execution_count": 4,
     "metadata": {},
     "output_type": "execute_result"
    }
   ],
   "source": [
    "data"
   ]
  },
  {
   "cell_type": "code",
   "execution_count": 5,
   "id": "35273cf8-d8aa-4911-90a7-80aa14fd5a43",
   "metadata": {},
   "outputs": [
    {
     "name": "stderr",
     "output_type": "stream",
     "text": [
      "C:\\Users\\1qlqj\\Desktop\\multicamp_semi\\multicamp_semi\\venv\\Lib\\site-packages\\pyproj\\crs\\crs.py:141: FutureWarning: '+init=<authority>:<code>' syntax is deprecated. '<authority>:<code>' is the preferred initialization method. When making the change, be mindful of axis order changes: https://pyproj4.github.io/pyproj/stable/gotchas.html#axis-order-changes-in-proj-6\n",
      "  in_crs_string = _prepare_from_proj_string(in_crs_string)\n",
      "C:\\Users\\1qlqj\\Desktop\\multicamp_semi\\multicamp_semi\\venv\\Lib\\site-packages\\pyproj\\crs\\crs.py:141: FutureWarning: '+init=<authority>:<code>' syntax is deprecated. '<authority>:<code>' is the preferred initialization method. When making the change, be mindful of axis order changes: https://pyproj4.github.io/pyproj/stable/gotchas.html#axis-order-changes-in-proj-6\n",
      "  in_crs_string = _prepare_from_proj_string(in_crs_string)\n"
     ]
    }
   ],
   "source": [
    "# 좌표계 정의\n",
    "# 한국 중부원점(Korea 2000 Central Belt) EPSG:5186\n",
    "proj_korea = Proj(init='epsg:5186')\n",
    "# WGS84\n",
    "proj_wgs84 = Proj(init='epsg:4326')"
   ]
  },
  {
   "cell_type": "code",
   "execution_count": 6,
   "id": "1127a0f8-dfca-4d49-82ae-f598b6aca31d",
   "metadata": {},
   "outputs": [],
   "source": [
    "# X좌표와 Y좌표를 위도와 경도로 변환하는 함수\n",
    "def convert_coords(x, y):\n",
    "    lon, lat = transform(proj_korea, proj_wgs84, x, y)\n",
    "    return lat, lon"
   ]
  },
  {
   "cell_type": "code",
   "execution_count": 7,
   "id": "5f135d9e-3a76-4d6c-b06b-631fa5e94638",
   "metadata": {},
   "outputs": [
    {
     "name": "stderr",
     "output_type": "stream",
     "text": [
      "C:\\Users\\1qlqj\\AppData\\Local\\Temp\\ipykernel_7300\\3974450290.py:3: FutureWarning: This function is deprecated. See: https://pyproj4.github.io/pyproj/stable/gotchas.html#upgrading-to-pyproj-2-from-pyproj-1\n",
      "  lon, lat = transform(proj_korea, proj_wgs84, x, y)\n"
     ]
    },
    {
     "ename": "KeyboardInterrupt",
     "evalue": "",
     "output_type": "error",
     "traceback": [
      "\u001b[1;31m---------------------------------------------------------------------------\u001b[0m",
      "\u001b[1;31mKeyboardInterrupt\u001b[0m                         Traceback (most recent call last)",
      "Cell \u001b[1;32mIn[7], line 2\u001b[0m\n\u001b[0;32m      1\u001b[0m \u001b[38;5;66;03m# 모든 좌표 변환\u001b[39;00m\n\u001b[1;32m----> 2\u001b[0m data[[\u001b[38;5;124m'\u001b[39m\u001b[38;5;124m위도\u001b[39m\u001b[38;5;124m'\u001b[39m, \u001b[38;5;124m'\u001b[39m\u001b[38;5;124m경도\u001b[39m\u001b[38;5;124m'\u001b[39m]] \u001b[38;5;241m=\u001b[39m \u001b[43mdata\u001b[49m\u001b[38;5;241;43m.\u001b[39;49m\u001b[43mapply\u001b[49m\u001b[43m(\u001b[49m\u001b[38;5;28;43;01mlambda\u001b[39;49;00m\u001b[43m \u001b[49m\u001b[43mrow\u001b[49m\u001b[43m:\u001b[49m\u001b[43m \u001b[49m\u001b[43mconvert_coords\u001b[49m\u001b[43m(\u001b[49m\u001b[43mrow\u001b[49m\u001b[43m[\u001b[49m\u001b[38;5;124;43m'\u001b[39;49m\u001b[38;5;124;43mX좌표\u001b[39;49m\u001b[38;5;124;43m'\u001b[39;49m\u001b[43m]\u001b[49m\u001b[43m,\u001b[49m\u001b[43m \u001b[49m\u001b[43mrow\u001b[49m\u001b[43m[\u001b[49m\u001b[38;5;124;43m'\u001b[39;49m\u001b[38;5;124;43mY좌표\u001b[39;49m\u001b[38;5;124;43m'\u001b[39;49m\u001b[43m]\u001b[49m\u001b[43m)\u001b[49m\u001b[43m,\u001b[49m\u001b[43m \u001b[49m\u001b[43maxis\u001b[49m\u001b[38;5;241;43m=\u001b[39;49m\u001b[38;5;241;43m1\u001b[39;49m\u001b[43m,\u001b[49m\u001b[43m \u001b[49m\u001b[43mresult_type\u001b[49m\u001b[38;5;241;43m=\u001b[39;49m\u001b[38;5;124;43m\"\u001b[39;49m\u001b[38;5;124;43mexpand\u001b[39;49m\u001b[38;5;124;43m\"\u001b[39;49m\u001b[43m)\u001b[49m\n",
      "File \u001b[1;32m~\\Desktop\\multicamp_semi\\multicamp_semi\\venv\\Lib\\site-packages\\geopandas\\geodataframe.py:1568\u001b[0m, in \u001b[0;36mGeoDataFrame.apply\u001b[1;34m(self, func, axis, raw, result_type, args, **kwargs)\u001b[0m\n\u001b[0;32m   1566\u001b[0m \u001b[38;5;129m@doc\u001b[39m(pd\u001b[38;5;241m.\u001b[39mDataFrame)\n\u001b[0;32m   1567\u001b[0m \u001b[38;5;28;01mdef\u001b[39;00m \u001b[38;5;21mapply\u001b[39m(\u001b[38;5;28mself\u001b[39m, func, axis\u001b[38;5;241m=\u001b[39m\u001b[38;5;241m0\u001b[39m, raw\u001b[38;5;241m=\u001b[39m\u001b[38;5;28;01mFalse\u001b[39;00m, result_type\u001b[38;5;241m=\u001b[39m\u001b[38;5;28;01mNone\u001b[39;00m, args\u001b[38;5;241m=\u001b[39m(), \u001b[38;5;241m*\u001b[39m\u001b[38;5;241m*\u001b[39mkwargs):\n\u001b[1;32m-> 1568\u001b[0m     result \u001b[38;5;241m=\u001b[39m \u001b[38;5;28;43msuper\u001b[39;49m\u001b[43m(\u001b[49m\u001b[43m)\u001b[49m\u001b[38;5;241;43m.\u001b[39;49m\u001b[43mapply\u001b[49m\u001b[43m(\u001b[49m\n\u001b[0;32m   1569\u001b[0m \u001b[43m        \u001b[49m\u001b[43mfunc\u001b[49m\u001b[43m,\u001b[49m\u001b[43m \u001b[49m\u001b[43maxis\u001b[49m\u001b[38;5;241;43m=\u001b[39;49m\u001b[43maxis\u001b[49m\u001b[43m,\u001b[49m\u001b[43m \u001b[49m\u001b[43mraw\u001b[49m\u001b[38;5;241;43m=\u001b[39;49m\u001b[43mraw\u001b[49m\u001b[43m,\u001b[49m\u001b[43m \u001b[49m\u001b[43mresult_type\u001b[49m\u001b[38;5;241;43m=\u001b[39;49m\u001b[43mresult_type\u001b[49m\u001b[43m,\u001b[49m\u001b[43m \u001b[49m\u001b[43margs\u001b[49m\u001b[38;5;241;43m=\u001b[39;49m\u001b[43margs\u001b[49m\u001b[43m,\u001b[49m\u001b[43m \u001b[49m\u001b[38;5;241;43m*\u001b[39;49m\u001b[38;5;241;43m*\u001b[39;49m\u001b[43mkwargs\u001b[49m\n\u001b[0;32m   1570\u001b[0m \u001b[43m    \u001b[49m\u001b[43m)\u001b[49m\n\u001b[0;32m   1571\u001b[0m     \u001b[38;5;66;03m# pandas <1.4 re-attach last geometry col if lost\u001b[39;00m\n\u001b[0;32m   1572\u001b[0m     \u001b[38;5;28;01mif\u001b[39;00m (\n\u001b[0;32m   1573\u001b[0m         \u001b[38;5;129;01mnot\u001b[39;00m compat\u001b[38;5;241m.\u001b[39mPANDAS_GE_14\n\u001b[0;32m   1574\u001b[0m         \u001b[38;5;129;01mand\u001b[39;00m \u001b[38;5;28misinstance\u001b[39m(result, GeoDataFrame)\n\u001b[0;32m   1575\u001b[0m         \u001b[38;5;129;01mand\u001b[39;00m result\u001b[38;5;241m.\u001b[39m_geometry_column_name \u001b[38;5;129;01mis\u001b[39;00m \u001b[38;5;28;01mNone\u001b[39;00m\n\u001b[0;32m   1576\u001b[0m     ):\n",
      "File \u001b[1;32m~\\Desktop\\multicamp_semi\\multicamp_semi\\venv\\Lib\\site-packages\\pandas\\core\\frame.py:10361\u001b[0m, in \u001b[0;36mDataFrame.apply\u001b[1;34m(self, func, axis, raw, result_type, args, by_row, engine, engine_kwargs, **kwargs)\u001b[0m\n\u001b[0;32m  10347\u001b[0m \u001b[38;5;28;01mfrom\u001b[39;00m \u001b[38;5;21;01mpandas\u001b[39;00m\u001b[38;5;21;01m.\u001b[39;00m\u001b[38;5;21;01mcore\u001b[39;00m\u001b[38;5;21;01m.\u001b[39;00m\u001b[38;5;21;01mapply\u001b[39;00m \u001b[38;5;28;01mimport\u001b[39;00m frame_apply\n\u001b[0;32m  10349\u001b[0m op \u001b[38;5;241m=\u001b[39m frame_apply(\n\u001b[0;32m  10350\u001b[0m     \u001b[38;5;28mself\u001b[39m,\n\u001b[0;32m  10351\u001b[0m     func\u001b[38;5;241m=\u001b[39mfunc,\n\u001b[1;32m   (...)\u001b[0m\n\u001b[0;32m  10359\u001b[0m     kwargs\u001b[38;5;241m=\u001b[39mkwargs,\n\u001b[0;32m  10360\u001b[0m )\n\u001b[1;32m> 10361\u001b[0m \u001b[38;5;28;01mreturn\u001b[39;00m \u001b[43mop\u001b[49m\u001b[38;5;241;43m.\u001b[39;49m\u001b[43mapply\u001b[49m\u001b[43m(\u001b[49m\u001b[43m)\u001b[49m\u001b[38;5;241m.\u001b[39m__finalize__(\u001b[38;5;28mself\u001b[39m, method\u001b[38;5;241m=\u001b[39m\u001b[38;5;124m\"\u001b[39m\u001b[38;5;124mapply\u001b[39m\u001b[38;5;124m\"\u001b[39m)\n",
      "File \u001b[1;32m~\\Desktop\\multicamp_semi\\multicamp_semi\\venv\\Lib\\site-packages\\pandas\\core\\apply.py:916\u001b[0m, in \u001b[0;36mFrameApply.apply\u001b[1;34m(self)\u001b[0m\n\u001b[0;32m    913\u001b[0m \u001b[38;5;28;01melif\u001b[39;00m \u001b[38;5;28mself\u001b[39m\u001b[38;5;241m.\u001b[39mraw:\n\u001b[0;32m    914\u001b[0m     \u001b[38;5;28;01mreturn\u001b[39;00m \u001b[38;5;28mself\u001b[39m\u001b[38;5;241m.\u001b[39mapply_raw(engine\u001b[38;5;241m=\u001b[39m\u001b[38;5;28mself\u001b[39m\u001b[38;5;241m.\u001b[39mengine, engine_kwargs\u001b[38;5;241m=\u001b[39m\u001b[38;5;28mself\u001b[39m\u001b[38;5;241m.\u001b[39mengine_kwargs)\n\u001b[1;32m--> 916\u001b[0m \u001b[38;5;28;01mreturn\u001b[39;00m \u001b[38;5;28;43mself\u001b[39;49m\u001b[38;5;241;43m.\u001b[39;49m\u001b[43mapply_standard\u001b[49m\u001b[43m(\u001b[49m\u001b[43m)\u001b[49m\n",
      "File \u001b[1;32m~\\Desktop\\multicamp_semi\\multicamp_semi\\venv\\Lib\\site-packages\\pandas\\core\\apply.py:1063\u001b[0m, in \u001b[0;36mFrameApply.apply_standard\u001b[1;34m(self)\u001b[0m\n\u001b[0;32m   1061\u001b[0m \u001b[38;5;28;01mdef\u001b[39;00m \u001b[38;5;21mapply_standard\u001b[39m(\u001b[38;5;28mself\u001b[39m):\n\u001b[0;32m   1062\u001b[0m     \u001b[38;5;28;01mif\u001b[39;00m \u001b[38;5;28mself\u001b[39m\u001b[38;5;241m.\u001b[39mengine \u001b[38;5;241m==\u001b[39m \u001b[38;5;124m\"\u001b[39m\u001b[38;5;124mpython\u001b[39m\u001b[38;5;124m\"\u001b[39m:\n\u001b[1;32m-> 1063\u001b[0m         results, res_index \u001b[38;5;241m=\u001b[39m \u001b[38;5;28;43mself\u001b[39;49m\u001b[38;5;241;43m.\u001b[39;49m\u001b[43mapply_series_generator\u001b[49m\u001b[43m(\u001b[49m\u001b[43m)\u001b[49m\n\u001b[0;32m   1064\u001b[0m     \u001b[38;5;28;01melse\u001b[39;00m:\n\u001b[0;32m   1065\u001b[0m         results, res_index \u001b[38;5;241m=\u001b[39m \u001b[38;5;28mself\u001b[39m\u001b[38;5;241m.\u001b[39mapply_series_numba()\n",
      "File \u001b[1;32m~\\Desktop\\multicamp_semi\\multicamp_semi\\venv\\Lib\\site-packages\\pandas\\core\\apply.py:1081\u001b[0m, in \u001b[0;36mFrameApply.apply_series_generator\u001b[1;34m(self)\u001b[0m\n\u001b[0;32m   1078\u001b[0m \u001b[38;5;28;01mwith\u001b[39;00m option_context(\u001b[38;5;124m\"\u001b[39m\u001b[38;5;124mmode.chained_assignment\u001b[39m\u001b[38;5;124m\"\u001b[39m, \u001b[38;5;28;01mNone\u001b[39;00m):\n\u001b[0;32m   1079\u001b[0m     \u001b[38;5;28;01mfor\u001b[39;00m i, v \u001b[38;5;129;01min\u001b[39;00m \u001b[38;5;28menumerate\u001b[39m(series_gen):\n\u001b[0;32m   1080\u001b[0m         \u001b[38;5;66;03m# ignore SettingWithCopy here in case the user mutates\u001b[39;00m\n\u001b[1;32m-> 1081\u001b[0m         results[i] \u001b[38;5;241m=\u001b[39m \u001b[38;5;28;43mself\u001b[39;49m\u001b[38;5;241;43m.\u001b[39;49m\u001b[43mfunc\u001b[49m\u001b[43m(\u001b[49m\u001b[43mv\u001b[49m\u001b[43m,\u001b[49m\u001b[43m \u001b[49m\u001b[38;5;241;43m*\u001b[39;49m\u001b[38;5;28;43mself\u001b[39;49m\u001b[38;5;241;43m.\u001b[39;49m\u001b[43margs\u001b[49m\u001b[43m,\u001b[49m\u001b[43m \u001b[49m\u001b[38;5;241;43m*\u001b[39;49m\u001b[38;5;241;43m*\u001b[39;49m\u001b[38;5;28;43mself\u001b[39;49m\u001b[38;5;241;43m.\u001b[39;49m\u001b[43mkwargs\u001b[49m\u001b[43m)\u001b[49m\n\u001b[0;32m   1082\u001b[0m         \u001b[38;5;28;01mif\u001b[39;00m \u001b[38;5;28misinstance\u001b[39m(results[i], ABCSeries):\n\u001b[0;32m   1083\u001b[0m             \u001b[38;5;66;03m# If we have a view on v, we need to make a copy because\u001b[39;00m\n\u001b[0;32m   1084\u001b[0m             \u001b[38;5;66;03m#  series_generator will swap out the underlying data\u001b[39;00m\n\u001b[0;32m   1085\u001b[0m             results[i] \u001b[38;5;241m=\u001b[39m results[i]\u001b[38;5;241m.\u001b[39mcopy(deep\u001b[38;5;241m=\u001b[39m\u001b[38;5;28;01mFalse\u001b[39;00m)\n",
      "Cell \u001b[1;32mIn[7], line 2\u001b[0m, in \u001b[0;36m<lambda>\u001b[1;34m(row)\u001b[0m\n\u001b[0;32m      1\u001b[0m \u001b[38;5;66;03m# 모든 좌표 변환\u001b[39;00m\n\u001b[1;32m----> 2\u001b[0m data[[\u001b[38;5;124m'\u001b[39m\u001b[38;5;124m위도\u001b[39m\u001b[38;5;124m'\u001b[39m, \u001b[38;5;124m'\u001b[39m\u001b[38;5;124m경도\u001b[39m\u001b[38;5;124m'\u001b[39m]] \u001b[38;5;241m=\u001b[39m data\u001b[38;5;241m.\u001b[39mapply(\u001b[38;5;28;01mlambda\u001b[39;00m row: \u001b[43mconvert_coords\u001b[49m\u001b[43m(\u001b[49m\u001b[43mrow\u001b[49m\u001b[43m[\u001b[49m\u001b[38;5;124;43m'\u001b[39;49m\u001b[38;5;124;43mX좌표\u001b[39;49m\u001b[38;5;124;43m'\u001b[39;49m\u001b[43m]\u001b[49m\u001b[43m,\u001b[49m\u001b[43m \u001b[49m\u001b[43mrow\u001b[49m\u001b[43m[\u001b[49m\u001b[38;5;124;43m'\u001b[39;49m\u001b[38;5;124;43mY좌표\u001b[39;49m\u001b[38;5;124;43m'\u001b[39;49m\u001b[43m]\u001b[49m\u001b[43m)\u001b[49m, axis\u001b[38;5;241m=\u001b[39m\u001b[38;5;241m1\u001b[39m, result_type\u001b[38;5;241m=\u001b[39m\u001b[38;5;124m\"\u001b[39m\u001b[38;5;124mexpand\u001b[39m\u001b[38;5;124m\"\u001b[39m)\n",
      "Cell \u001b[1;32mIn[6], line 3\u001b[0m, in \u001b[0;36mconvert_coords\u001b[1;34m(x, y)\u001b[0m\n\u001b[0;32m      2\u001b[0m \u001b[38;5;28;01mdef\u001b[39;00m \u001b[38;5;21mconvert_coords\u001b[39m(x, y):\n\u001b[1;32m----> 3\u001b[0m     lon, lat \u001b[38;5;241m=\u001b[39m \u001b[43mtransform\u001b[49m\u001b[43m(\u001b[49m\u001b[43mproj_korea\u001b[49m\u001b[43m,\u001b[49m\u001b[43m \u001b[49m\u001b[43mproj_wgs84\u001b[49m\u001b[43m,\u001b[49m\u001b[43m \u001b[49m\u001b[43mx\u001b[49m\u001b[43m,\u001b[49m\u001b[43m \u001b[49m\u001b[43my\u001b[49m\u001b[43m)\u001b[49m\n\u001b[0;32m      4\u001b[0m     \u001b[38;5;28;01mreturn\u001b[39;00m lat, lon\n",
      "File \u001b[1;32m~\\Desktop\\multicamp_semi\\multicamp_semi\\venv\\Lib\\site-packages\\pyproj\\transformer.py:1256\u001b[0m, in \u001b[0;36mtransform\u001b[1;34m(p1, p2, x, y, z, tt, radians, errcheck, always_xy)\u001b[0m\n\u001b[0;32m   1207\u001b[0m \u001b[38;5;250m\u001b[39m\u001b[38;5;124;03m\"\"\"\u001b[39;00m\n\u001b[0;32m   1208\u001b[0m \u001b[38;5;124;03m.. versionadded:: 2.2.0 always_xy\u001b[39;00m\n\u001b[0;32m   1209\u001b[0m \n\u001b[1;32m   (...)\u001b[0m\n\u001b[0;32m   1245\u001b[0m \n\u001b[0;32m   1246\u001b[0m \u001b[38;5;124;03m\"\"\"\u001b[39;00m\n\u001b[0;32m   1247\u001b[0m warnings\u001b[38;5;241m.\u001b[39mwarn(\n\u001b[0;32m   1248\u001b[0m     (\n\u001b[0;32m   1249\u001b[0m         \u001b[38;5;124m\"\u001b[39m\u001b[38;5;124mThis function is deprecated. \u001b[39m\u001b[38;5;124m\"\u001b[39m\n\u001b[1;32m   (...)\u001b[0m\n\u001b[0;32m   1254\u001b[0m     stacklevel\u001b[38;5;241m=\u001b[39m\u001b[38;5;241m2\u001b[39m,\n\u001b[0;32m   1255\u001b[0m )\n\u001b[1;32m-> 1256\u001b[0m \u001b[38;5;28;01mreturn\u001b[39;00m \u001b[43mTransformer\u001b[49m\u001b[38;5;241;43m.\u001b[39;49m\u001b[43mfrom_proj\u001b[49m\u001b[43m(\u001b[49m\u001b[43mp1\u001b[49m\u001b[43m,\u001b[49m\u001b[43m \u001b[49m\u001b[43mp2\u001b[49m\u001b[43m,\u001b[49m\u001b[43m \u001b[49m\u001b[43malways_xy\u001b[49m\u001b[38;5;241;43m=\u001b[39;49m\u001b[43malways_xy\u001b[49m\u001b[43m)\u001b[49m\u001b[38;5;241m.\u001b[39mtransform(\n\u001b[0;32m   1257\u001b[0m     xx\u001b[38;5;241m=\u001b[39mx, yy\u001b[38;5;241m=\u001b[39my, zz\u001b[38;5;241m=\u001b[39mz, tt\u001b[38;5;241m=\u001b[39mtt, radians\u001b[38;5;241m=\u001b[39mradians, errcheck\u001b[38;5;241m=\u001b[39merrcheck\n\u001b[0;32m   1258\u001b[0m )\n",
      "File \u001b[1;32m~\\Desktop\\multicamp_semi\\multicamp_semi\\venv\\Lib\\site-packages\\pyproj\\transformer.py:545\u001b[0m, in \u001b[0;36mTransformer.from_proj\u001b[1;34m(proj_from, proj_to, always_xy, area_of_interest)\u001b[0m\n\u001b[0;32m    542\u001b[0m \u001b[38;5;28;01mif\u001b[39;00m \u001b[38;5;129;01mnot\u001b[39;00m \u001b[38;5;28misinstance\u001b[39m(proj_to, Proj):\n\u001b[0;32m    543\u001b[0m     proj_to \u001b[38;5;241m=\u001b[39m Proj(proj_to)\n\u001b[1;32m--> 545\u001b[0m \u001b[38;5;28;01mreturn\u001b[39;00m \u001b[43mTransformer\u001b[49m\u001b[38;5;241;43m.\u001b[39;49m\u001b[43mfrom_crs\u001b[49m\u001b[43m(\u001b[49m\n\u001b[0;32m    546\u001b[0m \u001b[43m    \u001b[49m\u001b[43mproj_from\u001b[49m\u001b[38;5;241;43m.\u001b[39;49m\u001b[43mcrs\u001b[49m\u001b[43m,\u001b[49m\n\u001b[0;32m    547\u001b[0m \u001b[43m    \u001b[49m\u001b[43mproj_to\u001b[49m\u001b[38;5;241;43m.\u001b[39;49m\u001b[43mcrs\u001b[49m\u001b[43m,\u001b[49m\n\u001b[0;32m    548\u001b[0m \u001b[43m    \u001b[49m\u001b[43malways_xy\u001b[49m\u001b[38;5;241;43m=\u001b[39;49m\u001b[43malways_xy\u001b[49m\u001b[43m,\u001b[49m\n\u001b[0;32m    549\u001b[0m \u001b[43m    \u001b[49m\u001b[43marea_of_interest\u001b[49m\u001b[38;5;241;43m=\u001b[39;49m\u001b[43marea_of_interest\u001b[49m\u001b[43m,\u001b[49m\n\u001b[0;32m    550\u001b[0m \u001b[43m\u001b[49m\u001b[43m)\u001b[49m\n",
      "File \u001b[1;32m~\\Desktop\\multicamp_semi\\multicamp_semi\\venv\\Lib\\site-packages\\pyproj\\transformer.py:625\u001b[0m, in \u001b[0;36mTransformer.from_crs\u001b[1;34m(crs_from, crs_to, always_xy, area_of_interest, authority, accuracy, allow_ballpark, force_over, only_best)\u001b[0m\n\u001b[0;32m    552\u001b[0m \u001b[38;5;129m@staticmethod\u001b[39m\n\u001b[0;32m    553\u001b[0m \u001b[38;5;28;01mdef\u001b[39;00m \u001b[38;5;21mfrom_crs\u001b[39m(\n\u001b[0;32m    554\u001b[0m     crs_from: Any,\n\u001b[1;32m   (...)\u001b[0m\n\u001b[0;32m    562\u001b[0m     only_best: Optional[\u001b[38;5;28mbool\u001b[39m] \u001b[38;5;241m=\u001b[39m \u001b[38;5;28;01mNone\u001b[39;00m,\n\u001b[0;32m    563\u001b[0m ) \u001b[38;5;241m-\u001b[39m\u001b[38;5;241m>\u001b[39m \u001b[38;5;124m\"\u001b[39m\u001b[38;5;124mTransformer\u001b[39m\u001b[38;5;124m\"\u001b[39m:\n\u001b[0;32m    564\u001b[0m \u001b[38;5;250m    \u001b[39m\u001b[38;5;124;03m\"\"\"Make a Transformer from a :obj:`pyproj.crs.CRS` or input used to create one.\u001b[39;00m\n\u001b[0;32m    565\u001b[0m \n\u001b[0;32m    566\u001b[0m \u001b[38;5;124;03m    See:\u001b[39;00m\n\u001b[1;32m   (...)\u001b[0m\n\u001b[0;32m    623\u001b[0m \n\u001b[0;32m    624\u001b[0m \u001b[38;5;124;03m    \"\"\"\u001b[39;00m\n\u001b[1;32m--> 625\u001b[0m     \u001b[38;5;28;01mreturn\u001b[39;00m \u001b[43mTransformer\u001b[49m\u001b[43m(\u001b[49m\n\u001b[0;32m    626\u001b[0m \u001b[43m        \u001b[49m\u001b[43mTransformerFromCRS\u001b[49m\u001b[43m(\u001b[49m\n\u001b[0;32m    627\u001b[0m \u001b[43m            \u001b[49m\u001b[43mcstrencode\u001b[49m\u001b[43m(\u001b[49m\u001b[43mCRS\u001b[49m\u001b[38;5;241;43m.\u001b[39;49m\u001b[43mfrom_user_input\u001b[49m\u001b[43m(\u001b[49m\u001b[43mcrs_from\u001b[49m\u001b[43m)\u001b[49m\u001b[38;5;241;43m.\u001b[39;49m\u001b[43msrs\u001b[49m\u001b[43m)\u001b[49m\u001b[43m,\u001b[49m\n\u001b[0;32m    628\u001b[0m \u001b[43m            \u001b[49m\u001b[43mcstrencode\u001b[49m\u001b[43m(\u001b[49m\u001b[43mCRS\u001b[49m\u001b[38;5;241;43m.\u001b[39;49m\u001b[43mfrom_user_input\u001b[49m\u001b[43m(\u001b[49m\u001b[43mcrs_to\u001b[49m\u001b[43m)\u001b[49m\u001b[38;5;241;43m.\u001b[39;49m\u001b[43msrs\u001b[49m\u001b[43m)\u001b[49m\u001b[43m,\u001b[49m\n\u001b[0;32m    629\u001b[0m \u001b[43m            \u001b[49m\u001b[43malways_xy\u001b[49m\u001b[38;5;241;43m=\u001b[39;49m\u001b[43malways_xy\u001b[49m\u001b[43m,\u001b[49m\n\u001b[0;32m    630\u001b[0m \u001b[43m            \u001b[49m\u001b[43marea_of_interest\u001b[49m\u001b[38;5;241;43m=\u001b[39;49m\u001b[43marea_of_interest\u001b[49m\u001b[43m,\u001b[49m\n\u001b[0;32m    631\u001b[0m \u001b[43m            \u001b[49m\u001b[43mauthority\u001b[49m\u001b[38;5;241;43m=\u001b[39;49m\u001b[43mauthority\u001b[49m\u001b[43m,\u001b[49m\n\u001b[0;32m    632\u001b[0m \u001b[43m            \u001b[49m\u001b[43maccuracy\u001b[49m\u001b[38;5;241;43m=\u001b[39;49m\u001b[43maccuracy\u001b[49m\u001b[43m \u001b[49m\u001b[38;5;28;43;01mif\u001b[39;49;00m\u001b[43m \u001b[49m\u001b[43maccuracy\u001b[49m\u001b[43m \u001b[49m\u001b[38;5;129;43;01mis\u001b[39;49;00m\u001b[43m \u001b[49m\u001b[38;5;28;43;01mNone\u001b[39;49;00m\u001b[43m \u001b[49m\u001b[38;5;28;43;01melse\u001b[39;49;00m\u001b[43m \u001b[49m\u001b[38;5;28;43mstr\u001b[39;49m\u001b[43m(\u001b[49m\u001b[43maccuracy\u001b[49m\u001b[43m)\u001b[49m\u001b[43m,\u001b[49m\n\u001b[0;32m    633\u001b[0m \u001b[43m            \u001b[49m\u001b[43mallow_ballpark\u001b[49m\u001b[38;5;241;43m=\u001b[39;49m\u001b[43mallow_ballpark\u001b[49m\u001b[43m,\u001b[49m\n\u001b[0;32m    634\u001b[0m \u001b[43m            \u001b[49m\u001b[43mforce_over\u001b[49m\u001b[38;5;241;43m=\u001b[39;49m\u001b[43mforce_over\u001b[49m\u001b[43m,\u001b[49m\n\u001b[0;32m    635\u001b[0m \u001b[43m            \u001b[49m\u001b[43monly_best\u001b[49m\u001b[38;5;241;43m=\u001b[39;49m\u001b[43monly_best\u001b[49m\u001b[43m,\u001b[49m\n\u001b[0;32m    636\u001b[0m \u001b[43m        \u001b[49m\u001b[43m)\u001b[49m\n\u001b[0;32m    637\u001b[0m \u001b[43m    \u001b[49m\u001b[43m)\u001b[49m\n",
      "File \u001b[1;32m~\\Desktop\\multicamp_semi\\multicamp_semi\\venv\\Lib\\site-packages\\pyproj\\transformer.py:337\u001b[0m, in \u001b[0;36mTransformer.__init__\u001b[1;34m(self, transformer_maker)\u001b[0m\n\u001b[0;32m    331\u001b[0m     \u001b[38;5;28;01mraise\u001b[39;00m ProjError(\n\u001b[0;32m    332\u001b[0m         \u001b[38;5;124m\"\u001b[39m\u001b[38;5;124mTransformer must be initialized using: \u001b[39m\u001b[38;5;124m\"\u001b[39m\n\u001b[0;32m    333\u001b[0m         \u001b[38;5;124m\"\u001b[39m\u001b[38;5;124m'\u001b[39m\u001b[38;5;124mfrom_crs\u001b[39m\u001b[38;5;124m'\u001b[39m\u001b[38;5;124m or \u001b[39m\u001b[38;5;124m'\u001b[39m\u001b[38;5;124mfrom_pipeline\u001b[39m\u001b[38;5;124m'\u001b[39m\u001b[38;5;124m.\u001b[39m\u001b[38;5;124m\"\u001b[39m\n\u001b[0;32m    334\u001b[0m     )\n\u001b[0;32m    336\u001b[0m \u001b[38;5;28mself\u001b[39m\u001b[38;5;241m.\u001b[39m_local \u001b[38;5;241m=\u001b[39m TransformerLocal()\n\u001b[1;32m--> 337\u001b[0m \u001b[38;5;28mself\u001b[39m\u001b[38;5;241m.\u001b[39m_local\u001b[38;5;241m.\u001b[39mtransformer \u001b[38;5;241m=\u001b[39m \u001b[43mtransformer_maker\u001b[49m\u001b[43m(\u001b[49m\u001b[43m)\u001b[49m\n\u001b[0;32m    338\u001b[0m \u001b[38;5;28mself\u001b[39m\u001b[38;5;241m.\u001b[39m_transformer_maker \u001b[38;5;241m=\u001b[39m transformer_maker\n",
      "\u001b[1;31mKeyboardInterrupt\u001b[0m: "
     ]
    }
   ],
   "source": [
    "# 모든 좌표 변환\n",
    "data[['위도', '경도']] = data.apply(lambda row: convert_coords(row['X좌표'], row['Y좌표']), axis=1, result_type=\"expand\")"
   ]
  },
  {
   "cell_type": "code",
   "execution_count": null,
   "id": "8338d858-0c26-48fa-aa52-fa77cf31cdba",
   "metadata": {},
   "outputs": [],
   "source": [
    "data"
   ]
  },
  {
   "cell_type": "code",
   "execution_count": null,
   "id": "5924c184-2079-453c-b7a8-0d7de9cb0982",
   "metadata": {},
   "outputs": [],
   "source": [
    "# Point 객체로 변환\n",
    "geometry = [Point(xy) for xy in zip(data[\"경도\"], data[\"위도\"])]"
   ]
  },
  {
   "cell_type": "code",
   "execution_count": null,
   "id": "c520c488-f555-40c0-be35-b33e4eafd5cc",
   "metadata": {},
   "outputs": [],
   "source": [
    "# GeoDataFrame 생성\n",
    "gdf = gpd.GeoDataFrame(data, geometry=geometry)"
   ]
  },
  {
   "cell_type": "code",
   "execution_count": null,
   "id": "77ef22e3-260b-4742-b955-a7d2b0f5e94b",
   "metadata": {},
   "outputs": [],
   "source": [
    "gdf = gdf.drop(columns = ['일련번호', 'X좌표', 'Y좌표', '사용구분', '삭제여부'])"
   ]
  },
  {
   "cell_type": "code",
   "execution_count": null,
   "id": "b974b16d-d6e4-47b6-b21f-6228e6e7dcc4",
   "metadata": {},
   "outputs": [],
   "source": [
    "gdf = gdf.drop(columns = ['업데이트날짜', '위도', '경도'])"
   ]
  },
  {
   "cell_type": "code",
   "execution_count": null,
   "id": "fcdee7c3-d2f1-49f0-97cb-7039758e81f7",
   "metadata": {},
   "outputs": [],
   "source": [
    "gdf.head()"
   ]
  },
  {
   "cell_type": "code",
   "execution_count": null,
   "id": "ff351585-3661-4ae1-9a3d-68dbf85db616",
   "metadata": {},
   "outputs": [],
   "source": [
    "# gdf.to_csv('서울시_비상소화장치_좌표.csv', index=False)"
   ]
  },
  {
   "cell_type": "code",
   "execution_count": null,
   "id": "7b977e66-9729-4d19-88a6-f772455b1b90",
   "metadata": {},
   "outputs": [],
   "source": [
    "dong = pd.read_file(\"data/동경계/동경계_geo.shp\")"
   ]
  },
  {
   "cell_type": "code",
   "execution_count": null,
   "id": "a4d23da7-6e90-499c-929b-f3390c03f69d",
   "metadata": {},
   "outputs": [],
   "source": [
    "dong"
   ]
  },
  {
   "cell_type": "code",
   "execution_count": null,
   "id": "a2b95a91-61f5-4aac-bb41-c9f11e8e60e9",
   "metadata": {},
   "outputs": [],
   "source": []
  }
 ],
 "metadata": {
  "kernelspec": {
   "display_name": "Python 3 (ipykernel)",
   "language": "python",
   "name": "python3"
  },
  "language_info": {
   "codemirror_mode": {
    "name": "ipython",
    "version": 3
   },
   "file_extension": ".py",
   "mimetype": "text/x-python",
   "name": "python",
   "nbconvert_exporter": "python",
   "pygments_lexer": "ipython3",
   "version": "3.12.1"
  }
 },
 "nbformat": 4,
 "nbformat_minor": 5
}
